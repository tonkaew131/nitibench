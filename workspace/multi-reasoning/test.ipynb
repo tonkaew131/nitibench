{
 "cells": [
  {
   "cell_type": "code",
   "execution_count": 34,
   "metadata": {},
   "outputs": [],
   "source": [
    "from lrg.prompting.loader import prompt_loader\n",
    "from jinja2 import Environment, nodes\n",
    "\n",
    "dummy = prompt_loader.get_or_select_template(\"dummy_prompt.md\")"
   ]
  },
  {
   "cell_type": "code",
   "execution_count": 48,
   "metadata": {},
   "outputs": [
    {
     "data": {
      "text/plain": [
       "'/app/lrg/prompting/templates/dummy_prompt.md'"
      ]
     },
     "execution_count": 48,
     "metadata": {},
     "output_type": "execute_result"
    }
   ],
   "source": [
    "dummy.filename"
   ]
  },
  {
   "cell_type": "code",
   "execution_count": 49,
   "metadata": {},
   "outputs": [
    {
     "data": {
      "text/plain": [
       "'{{name}} is a {{folder}} path.'"
      ]
     },
     "execution_count": 49,
     "metadata": {},
     "output_type": "execute_result"
    }
   ],
   "source": [
    "text = open(dummy.filename, \"r\").read()\n",
    "text"
   ]
  },
  {
   "cell_type": "code",
   "execution_count": 52,
   "metadata": {},
   "outputs": [
    {
     "data": {
      "text/plain": [
       "Template(body=[Output(nodes=[Name(name='name', ctx='load'), TemplateData(data=' is a '), Name(name='folder', ctx='load'), TemplateData(data=' path.')])])"
      ]
     },
     "execution_count": 52,
     "metadata": {},
     "output_type": "execute_result"
    }
   ],
   "source": [
    "env = Environment()\n",
    "ast = env.parse(text)\n",
    "ast"
   ]
  },
  {
   "cell_type": "code",
   "execution_count": 53,
   "metadata": {},
   "outputs": [
    {
     "data": {
      "text/plain": [
       "{'folder', 'name'}"
      ]
     },
     "execution_count": 53,
     "metadata": {},
     "output_type": "execute_result"
    }
   ],
   "source": [
    "from jinja2 import meta\n",
    "meta.find_undeclared_variables(ast)"
   ]
  },
  {
   "cell_type": "code",
   "execution_count": 67,
   "metadata": {},
   "outputs": [
    {
     "name": "stdout",
     "output_type": "stream",
     "text": [
      "{'name.path', 'name.folder'}\n"
     ]
    }
   ],
   "source": [
    "from jinja2 import Environment, nodes, meta\n",
    "\n",
    "def extract_all_variables(template_string):\n",
    "    \"\"\"Extracts all variables including nested attributes from a Jinja template.\"\"\"\n",
    "\n",
    "    env = Environment()\n",
    "    parsed_content = env.parse(template_string)\n",
    "    undeclared_vars = meta.find_undeclared_variables(parsed_content)\n",
    "\n",
    "    all_variables = set()\n",
    "    for node in parsed_content.find_all(nodes.Getattr):\n",
    "        full_var = node.attr\n",
    "        current_obj = node.node\n",
    "        while isinstance(current_obj, nodes.Getattr):\n",
    "            full_var = f\"{current_obj.attr}.{full_var}\"\n",
    "            current_obj = current_obj.node\n",
    "        if isinstance(current_obj, nodes.Name):\n",
    "            full_var = f\"{current_obj.name}.{full_var}\"\n",
    "        all_variables.add(full_var)\n",
    "\n",
    "    return all_variables\n",
    "\n",
    "template_string = \"{{name.path}} is a {{name.folder}} path.\"\n",
    "extracted_variables = extract_all_variables(template_string)\n",
    "print(extracted_variables)  # Output: {'name.folder', 'name.path'} "
   ]
  },
  {
   "cell_type": "code",
   "execution_count": 65,
   "metadata": {},
   "outputs": [
    {
     "data": {
      "text/plain": [
       "{'name'}"
      ]
     },
     "execution_count": 65,
     "metadata": {},
     "output_type": "execute_result"
    }
   ],
   "source": [
    "from jinja2 import Environment, nodes\n",
    "# Create a Jinja2 environment.\n",
    "env = Environment()\n",
    "template_string = \"{{name.path}} is a {{name.folder}} path.\"\n",
    "# Find all variables used in the template.\n",
    "parsed_content = env.parse(template_string)\n",
    "meta.find_undeclared_variables(parsed_content)\n",
    "# variables = set(n.name for n in parsed_content.find_all(nodes.Name))\n",
    "# missing_variables = variables - set(context.keys())\n",
    "# if missing_variables:\n",
    "#     raise ValueError(f\"Missing required variables: {', '.join(missing_variables)}\")"
   ]
  },
  {
   "cell_type": "code",
   "execution_count": 64,
   "metadata": {},
   "outputs": [
    {
     "data": {
      "text/plain": [
       "Template(body=[Output(nodes=[Getattr(node=Name(name='name', ctx='load'), attr='path', ctx='load'), TemplateData(data=' is a '), Getattr(node=Name(name='name', ctx='load'), attr='folder', ctx='load'), TemplateData(data=' path.')])])"
      ]
     },
     "execution_count": 64,
     "metadata": {},
     "output_type": "execute_result"
    }
   ],
   "source": [
    "parsed_content"
   ]
  },
  {
   "cell_type": "code",
   "execution_count": 60,
   "metadata": {},
   "outputs": [
    {
     "data": {
      "text/plain": [
       "{'folder', 'name'}"
      ]
     },
     "execution_count": 60,
     "metadata": {},
     "output_type": "execute_result"
    }
   ],
   "source": [
    "variables"
   ]
  },
  {
   "cell_type": "code",
   "execution_count": 1,
   "metadata": {},
   "outputs": [
    {
     "name": "stdout",
     "output_type": "stream",
     "text": [
      "[Step(explanation='We start with the equation: 8x + 31 = 2.', output='8x + 31 = 2'), Step(explanation='Subtract 31 from both sides to isolate the term with x.', output='8x = 2 - 31'), Step(explanation='Calculate the subtraction: 2 - 31 = -29.', output='8x = -29'), Step(explanation='Divide both sides by 8 to solve for x.', output='x = -29/8')]\n",
      "x = -29/8\n"
     ]
    }
   ],
   "source": [
    "from pydantic import BaseModel\n",
    "from openai import OpenAI\n",
    "\n",
    "class ReasoningStep(BaseModel):\n",
    "    explanation: str\n",
    "    action: str\n",
    "\n",
    "class LegalReasoning(BaseModel):\n",
    "    steps: list[ReasoningStep]\n",
    "\n",
    "client = OpenAI()\n",
    "\n",
    "completion = client.beta.chat.completions.parse(\n",
    "    model=\"gpt-4o-2024-08-06\",\n",
    "    messages=[\n",
    "        {\"role\": \"system\", \"content\": \"You are a helpful math tutor.\"},\n",
    "        {\"role\": \"user\", \"content\": \"solve 8x + 31 = 2\"},\n",
    "    ],\n",
    "    response_format=LegalReasoning,\n",
    ")\n",
    "\n",
    "message = completion.choices[0].message\n",
    "if message.parsed:\n",
    "    print(message.parsed.steps)\n",
    "    print(message.parsed.final_answer)\n",
    "else:\n",
    "    print(message.refusal)"
   ]
  },
  {
   "cell_type": "code",
   "execution_count": 4,
   "metadata": {},
   "outputs": [
    {
     "data": {
      "text/plain": [
       "ParsedChatCompletionMessage[MathResponse](content='{\"steps\":[{\"explanation\":\"We start with the equation: 8x + 31 = 2.\",\"output\":\"8x + 31 = 2\"},{\"explanation\":\"Subtract 31 from both sides to isolate the term with x.\",\"output\":\"8x = 2 - 31\"},{\"explanation\":\"Calculate the subtraction: 2 - 31 = -29.\",\"output\":\"8x = -29\"},{\"explanation\":\"Divide both sides by 8 to solve for x.\",\"output\":\"x = -29/8\"}],\"final_answer\":\"x = -29/8\"}', refusal=None, role='assistant', function_call=None, tool_calls=[], parsed=MathResponse(steps=[Step(explanation='We start with the equation: 8x + 31 = 2.', output='8x + 31 = 2'), Step(explanation='Subtract 31 from both sides to isolate the term with x.', output='8x = 2 - 31'), Step(explanation='Calculate the subtraction: 2 - 31 = -29.', output='8x = -29'), Step(explanation='Divide both sides by 8 to solve for x.', output='x = -29/8')], final_answer='x = -29/8'))"
      ]
     },
     "execution_count": 4,
     "metadata": {},
     "output_type": "execute_result"
    }
   ],
   "source": [
    "message"
   ]
  },
  {
   "cell_type": "code",
   "execution_count": 10,
   "metadata": {},
   "outputs": [
    {
     "data": {
      "text/plain": [
       "Step(explanation='We start with the equation: 8x + 31 = 2.', output='8x + 31 = 2')"
      ]
     },
     "execution_count": 10,
     "metadata": {},
     "output_type": "execute_result"
    }
   ],
   "source": [
    "message.parsed.steps[0]"
   ]
  },
  {
   "cell_type": "code",
   "execution_count": null,
   "metadata": {},
   "outputs": [],
   "source": []
  }
 ],
 "metadata": {
  "kernelspec": {
   "display_name": "Python 3 (ipykernel)",
   "language": "python",
   "name": "python3"
  },
  "language_info": {
   "codemirror_mode": {
    "name": "ipython",
    "version": 3
   },
   "file_extension": ".py",
   "mimetype": "text/x-python",
   "name": "python",
   "nbconvert_exporter": "python",
   "pygments_lexer": "ipython3",
   "version": "3.10.14"
  }
 },
 "nbformat": 4,
 "nbformat_minor": 2
}
